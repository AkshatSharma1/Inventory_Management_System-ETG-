{
 "cells": [
  {
   "cell_type": "code",
   "execution_count": 1,
   "metadata": {},
   "outputs": [],
   "source": [
    "import json"
   ]
  },
  {
   "cell_type": "code",
   "execution_count": 3,
   "metadata": {},
   "outputs": [],
   "source": [
    "data = json.dumps(record_data)\n",
    "fp = open(\"dataSet.json\", \"w\")\n",
    "fp.write(data)\n",
    "fp.close()"
   ]
  },
  {
   "cell_type": "markdown",
   "metadata": {},
   "source": [
    "## Inserting New Data"
   ]
  },
  {
   "cell_type": "code",
   "execution_count": 4,
   "metadata": {},
   "outputs": [
    {
     "name": "stdout",
     "output_type": "stream",
     "text": [
      "Enter the product id:1056\n",
      "Enter the product name:Hats\n",
      "Enter the quantity of the product:100\n",
      "Enter the price of the product:200\n",
      "Is the product available:[1(True)/0(False)]:1\n",
      "Enter expiry date of the product:N/A\n"
     ]
    }
   ],
   "source": [
    "product_id = input(\"Enter the product id:\")\n",
    "name = input(\"Enter the product name:\")\n",
    "qty = int(input(\"Enter the quantity of the product:\"))\n",
    "price = int(input(\"Enter the price of the product:\"))\n",
    "isAvailable = int(input(\"Is the product available:[1(True)/0(False)]:\"))\n",
    "expiry = input(\"Enter expiry date of the product:\")"
   ]
  },
  {
   "cell_type": "markdown",
   "metadata": {},
   "source": [
    "## Check if data is added or not"
   ]
  },
  {
   "cell_type": "code",
   "execution_count": 5,
   "metadata": {},
   "outputs": [],
   "source": [
    "fp = open(\"dataSet.json\", \"r\")\n",
    "data = fp.read()\n",
    "fp.close()\n",
    "prev_records = json.loads(data)"
   ]
  },
  {
   "cell_type": "markdown",
   "metadata": {},
   "source": [
    "# Check if product_id already and if Not, then add the data"
   ]
  },
  {
   "cell_type": "code",
   "execution_count": 8,
   "metadata": {},
   "outputs": [
    {
     "name": "stdout",
     "output_type": "stream",
     "text": [
      "Enter the product id:1056\n",
      "Enter the product name:Hats\n",
      "Enter the quantity:100\n",
      "Enter the price of the product:200\n",
      "Is the product available:[1(Yes)/0(No)]?:1\n",
      "Enter expiry date of the product:N/A\n",
      "Do you want to add more stock data? [Yes: 1/ No :0]0\n"
     ]
    }
   ],
   "source": [
    "def add_newData():\n",
    "    \n",
    "    # taking input from the user\n",
    "    product_id = input(\"Enter the product id:\")\n",
    "    name = input(\"Enter the product name:\")\n",
    "    qty = int(input(\"Enter the quantity:\"))\n",
    "    price = int(input(\"Enter the price of the product:\"))\n",
    "    isAvailable = int(input(\"Is the product available:[1(Yes)/0(No)]?:\"))\n",
    "    expiry = input(\"Enter expiry date of the product:\")\n",
    "    fp = open(\"dataSet.json\", \"r\")\n",
    "    data = fp.read()\n",
    "    fp.close()\n",
    "    newly_added = json.loads(data)\n",
    "    if (product_id in newly_added.keys()):\n",
    "        newly_added[product_id]['qty'] += qty\n",
    "    else:\n",
    "        newly_added[product_id] = { 'name': name,\n",
    "                                 'qty': qty,\n",
    "                                 'price': price,\n",
    "                                 'isAvailable': isAvailable,\n",
    "                                 'Expiry': expiry}\n",
    "    data = json.dumps(newly_added)\n",
    "    fp = open(\"dataSet.json\", 'w')\n",
    "    fp.write(data)\n",
    "    fp.close()\n",
    "i = 1\n",
    "while(i==1):\n",
    "    add_newData()\n",
    "    i = int(input(\"Do you want to add more stock data? [Yes: 1/ No :0]\"))"
   ]
  }
 ],
 "metadata": {
  "kernelspec": {
   "display_name": "Python 3",
   "language": "python",
   "name": "python3"
  },
  "language_info": {
   "codemirror_mode": {
    "name": "ipython",
    "version": 3
   },
   "file_extension": ".py",
   "mimetype": "text/x-python",
   "name": "python",
   "nbconvert_exporter": "python",
   "pygments_lexer": "ipython3",
   "version": "3.8.5"
  }
 },
 "nbformat": 4,
 "nbformat_minor": 4
}
