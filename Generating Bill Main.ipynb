{
 "cells": [
  {
   "cell_type": "markdown",
   "metadata": {},
   "source": [
    "# Importing Data from dataSet Json File"
   ]
  },
  {
   "cell_type": "code",
   "execution_count": 17,
   "metadata": {},
   "outputs": [],
   "source": [
    "import json\n",
    "\n",
    "fp = open(\"dataset.json\", \"r\")\n",
    "data = fp.read()\n",
    "fp. close()\n",
    "\n",
    "record_dataSet = json.loads(data)"
   ]
  },
  {
   "cell_type": "markdown",
   "metadata": {},
   "source": [
    "### Displaying Json data"
   ]
  },
  {
   "cell_type": "code",
   "execution_count": 18,
   "metadata": {},
   "outputs": [
    {
     "name": "stdout",
     "output_type": "stream",
     "text": [
      "{'1001': {'name': 'Lamp', 'qty': 10, 'price': 300, 'isAvailable': 1, 'Expiry': '1/11/2024'}, '1002': {'name': 'Pencil', 'qty': 100, 'price': 5, 'isAvailable': 1, 'Expiry': '10/10/2021'}, '1003': {'name': 'Mobile cases', 'qty': 100, 'price': 100, 'isAvailable': 1, 'Expiry': '1/10/2023'}, '1004': {'name': 'Notebook', 'qty': 200, 'price': 40, 'isAvailable': 1, 'Expiry': '10/11/2021'}, '1005': {'name': 'Guide', 'qty': 20, 'price': 100, 'isAvailable': 1, 'Expiry': '15/10/2021'}, '1006': {'name': 'Chart', 'qty': 50, 'price': 20, 'isAvailable': 1, 'Expiry': '5/10/2022'}, '1007': {'name': 'Map', 'qty': 50, 'price': 10, 'isAvailable': 1, 'Expiry': '5/1/2021'}, '1008': {'name': 'Graph', 'qty': 50, 'price': 2, 'isAvailable': 1, 'Expiry': '20/10/2021'}, '1009': {'name': 'Melody', 'qty': 500, 'price': 1, 'isAvailable': 1, 'Expiry': '5/12/2021'}, '1010': {'name': 'Mango Chips', 'qty': 300, 'price': 1, 'isAvailable': 1, 'Expiry': '5/10/2022'}, '1011': {'name': 'Popins', 'qty': 100, 'price': 5, 'isAvailable': 1, 'Expiry': '15/10/2022'}, '1012': {'name': 'Crax', 'qty': 100, 'price': 5, 'isAvailable': 1, 'Expiry': '15/4/2022'}, '1013': {'name': 'Banana chips', 'qty': 80, 'price': 5, 'isAvailable': 1, 'Expiry': '15/9/2022'}, '1014': {'name': 'Potato chips', 'qty': 100, 'price': 5, 'isAvailable': 1, 'Expiry': '1/10/2022'}, '1015': {'name': 'Ariel Detergent', 'qty': 10, 'price': 500, 'isAvailable': 1, 'Expiry': '15/1/2022'}, '1016': {'name': 'Screw Driver', 'qty': 50, 'price': 15, 'isAvailable': 1, 'Expiry': '15/7/2021'}, '1017': {'name': 'Scisors', 'qty': 100, 'price': 20, 'isAvailable': 1, 'Expiry': '15/10/2023'}, '1018': {'name': 'Mosquito Killer', 'qty': 10, 'price': 50, 'isAvailable': 1, 'Expiry': '1/5/2022'}, '1019': {'name': 'Charger', 'qty': 30, 'price': 200, 'isAvailable': 1, 'Expiry': '15/1/2024'}, '1020': {'name': 'Mobile Phones', 'qty': 25, 'price': 10000, 'isAvailable': 1, 'Expiry': '1/1/2025'}, '1021': {'name': 'Headphones', 'qty': 30, 'price': 1000, 'isAvailable': 1, 'Expiry': '1/1/2025'}, '1022': {'name': 'Earphone', 'qty': 30, 'price': 500, 'isAvailable': 1, 'Expiry': '1/1/2025'}, '1023': {'name': 'Mouse', 'qty': 20, 'price': 1000, 'isAvailable': 1, 'Expiry': '1/1/2025'}, '1024': {'name': 'Chart paper', 'qty': 500, 'price': 1, 'isAvailable': 1, 'Expiry': '1/10/2024'}, '1025': {'name': 'White Board', 'qty': 10, 'price': 300, 'isAvailable': 1, 'Expiry': '1/10/2025'}, '1026': {'name': 'Battery', 'qty': 20, 'price': 200, 'isAvailable': 1, 'Expiry': '19/1/2022'}, '1027': {'name': 'IOS Cell', 'qty': 43, 'price': 10, 'isAvailable': 1, 'Expiry': '1/1/2021'}, '1028': {'name': 'Skybag', 'qty': 20, 'price': 100, 'isAvailable': 1, 'Expiry': '1/10/2023'}, '1029': {'name': 'Wallet', 'qty': 30, 'price': 150, 'isAvailable': 1, 'Expiry': '1/1/2025'}, '1030': {'name': 'Bracelet', 'qty': 30, 'price': 100, 'isAvailable': 1, 'Expiry': '1/1/2025'}, '1031': {'name': 'Belt', 'qty': 20, 'price': 80, 'isAvailable': 1, 'Expiry': '1/10/2023'}, '1032': {'name': 'Lenses', 'qty': 50, 'price': 300, 'isAvailable': 1, 'Expiry': '1/1/2023'}, '1033': {'name': 'Marker', 'qty': 50, 'price': 10, 'isAvailable': 1, 'Expiry': '1/10/2023'}, '1034': {'name': 'Sketchpen', 'qty': 40, 'price': 5, 'isAvailable': 1, 'Expiry': '10/10/2023'}, '1035': {'name': 'Oil Colors', 'qty': 50, 'price': 50, 'isAvailable': 1, 'Expiry': '1/12/2023'}, '1036': {'name': 'Water Colors', 'qty': 50, 'price': 60, 'isAvailable': 1, 'Expiry': '1/1/2023'}, '1037': {'name': 'Drawing book', 'qty': 20, 'price': 60, 'isAvailable': 1, 'Expiry': '1/4/2024'}, '1038': {'name': 'Book', 'qty': 200, 'price': 50, 'isAvailable': 1, 'Expiry': '5/11/2021'}, '1039': {'name': 'Hair Oil', 'qty': 30, 'price': 120, 'isAvailable': 1, 'Expiry': '10/8/2023'}, '1040': {'name': 'Maggie masala', 'qty': 50, 'price': 30, 'isAvailable': 1, 'Expiry': '1/10/2024'}, '1041': {'name': 'Soup', 'qty': 50, 'price': 5, 'isAvailable': 1, 'Expiry': '1/7/2024'}, '1042': {'name': 'Broom', 'qty': 20, 'price': 70, 'isAvailable': 1, 'Expiry': '1/10/2021'}, '1043': {'name': 'Chair', 'qty': 25, 'price': 800, 'isAvailable': 1, 'Expiry': '1/3/2024'}, '1044': {'name': 'Pen', 'qty': 55, 'price': 10, 'isAvailable': 1, 'Expiry': '5/10/2021'}, '1045': {'name': 'Rular', 'qty': 100, 'price': 5, 'isAvailable': 1, 'Expiry': '1/10/2027'}, '1046': {'name': 'Sharpner', 'qty': 50, 'price': 5, 'isAvailable': 1, 'Expiry': '1/6/2024'}, '1047': {'name': 'Eraser', 'qty': 200, 'price': 3, 'isAvailable': 1, 'Expiry': '1/10/2025'}, '1048': {'name': 'Pants', 'qty': 50, 'price': 2, 'isAvailable': 1, 'Expiry': '10/6/2024'}, '1049': {'name': 'Needle', 'qty': 30, 'price': 5, 'isAvailable': 1, 'Expiry': '1/12/2023'}, '1050': {'name': 'Matchbox', 'qty': 200, 'price': 1, 'isAvailable': 1, 'Expiry': '1/10/2024'}, '1055': {'name': 'Soap', 'qty': 74, 'price': 30, 'isAvailable': 1, 'Expiry': '12/12/2022'}, '1056': {'name': 'Hats', 'qty': 200, 'price': 200, 'isAvailable': 1, 'Expiry': 'N/A'}}\n"
     ]
    }
   ],
   "source": [
    "print(record_dataSet)"
   ]
  },
  {
   "cell_type": "markdown",
   "metadata": {},
   "source": [
    "### Displaying record item data"
   ]
  },
  {
   "cell_type": "code",
   "execution_count": 19,
   "metadata": {},
   "outputs": [
    {
     "name": "stdout",
     "output_type": "stream",
     "text": [
      "Enter the customer name:Akshat\n",
      "Enter customer mobile number:600******7\n",
      "Enter the product id of the product bought:1027\n",
      "Enter the quantity of product Akshat bought:10\n",
      "*************************************\n",
      " Bill Generated \n",
      "*************************************\n",
      "Customer name: Akshat\n",
      "Customer mobile no: 600******7\n",
      "____________________________________\n",
      "Product id: 1027\n",
      "Product name: IOS Cell\n",
      "Quantity bought: 10\n",
      "Price per item: 10\n",
      "____________________________________\n",
      "Total Amount: 100 \n",
      "\n",
      "*************************************\n",
      " Thanks for Shopping \n",
      "*************************************\n"
     ]
    }
   ],
   "source": [
    "customer_name = input(\"Enter the customer name:\")\n",
    "customer_mobile_no = input(\"Enter customer mobile number:\")\n",
    "product_id = input(\"Enter the product id of the product bought:\")\n",
    "qty = int(input(f\"Enter the quantity of product {customer_name} bought:\"))\n",
    "if product_id in record_dataSet.keys() and record_dataSet[product_id]['isAvailable']==1:\n",
    "    if (qty <= record_dataSet[product_id]['qty']):\n",
    "        # Generate the bill:\n",
    "        print(\"*************************************\\n Bill Generated \\n*************************************\")\n",
    "        print(\"Customer name:\",customer_name)\n",
    "        print(\"Customer mobile no:\", customer_mobile_no)\n",
    "        print(\"____________________________________\")\n",
    "        print(\"Product id:\",product_id)\n",
    "        print(\"Product name:\",record_dataSet[product_id]['name'])\n",
    "        print(\"Quantity bought:\",qty)\n",
    "        print(\"Price per item:\",record_dataSet[product_id]['price'])\n",
    "        print(\"____________________________________\")\n",
    "        print(\"Total Amount:\", qty * record_dataSet[product_id]['price'],\"\\n\")\n",
    "        print(\"*************************************\\n Thanks for Shopping \\n*************************************\")\n",
    "        \n",
    "        # update the qty in the record_dataSet\n",
    "        record_dataSet[product_id]['qty'] -= qty\n",
    "        \n",
    "        if (record_dataSet[product_id]['qty'] == 0):\n",
    "            record_dataSet[product_id]['isAvailable']=0\n",
    "    else:\n",
    "        print(\"The given product is not available in the given quantity\")\n",
    "else:\n",
    "    print(\"Wrong product id or product currently not available\")"
   ]
  },
  {
   "cell_type": "markdown",
   "metadata": {},
   "source": [
    "### Updating data"
   ]
  },
  {
   "cell_type": "code",
   "execution_count": 20,
   "metadata": {},
   "outputs": [],
   "source": [
    "data = json.dumps(record_dataSet)\n",
    "\n",
    "fp = open(\"record_dataSet.json\", \"w\")\n",
    "fp.write(data)\n",
    "fp.close()"
   ]
  },
  {
   "cell_type": "code",
   "execution_count": 21,
   "metadata": {},
   "outputs": [],
   "source": [
    "initial_sales_count = {'sales' : 0}\n",
    "data = json.dumps(initial_sales_count)\n",
    "\n",
    "fp = open(\"salesRecord.json\", 'w')\n",
    "fp.write(data)\n",
    "fp.close()"
   ]
  },
  {
   "cell_type": "markdown",
   "metadata": {},
   "source": [
    "## Function for generating bills"
   ]
  },
  {
   "cell_type": "code",
   "execution_count": 22,
   "metadata": {},
   "outputs": [],
   "source": [
    "\n",
    "import json\n",
    "import time\n",
    "\n",
    "def generateBill():\n",
    "    fp = open(\"record_dataSet.json\", \"r\")\n",
    "    data = fp.read()\n",
    "    fp. close()\n",
    "\n",
    "    record_dataSet = json.loads(data)\n",
    "    customer_name = input(\"Enter customer name: \")\n",
    "    customer_mobile_no = input(\"Enter customer mobile number: \")\n",
    "    product_id = input(\"Enter the product id of the product bought: \")\n",
    "    qty = int(input(f\"Enter the quantity of product bought by {customer_name}: \"))\n",
    "    if product_id in record_dataSet.keys() and record_dataSet[product_id]['isAvailable']==1:\n",
    "        if (qty <= record_dataSet[product_id]['qty']):\n",
    "            print(\"*************************************\\n Bill Generated \\n*************************************\")\n",
    "            print(\"Customer name: Mr.\",customer_name)\n",
    "            print(\"Customer mobile no:\", customer_mobile_no)\n",
    "            print(\"____________________________________\")\n",
    "            print(\"Product id entered:\",product_id)\n",
    "            print(\"Product name:\",record_dataSet[product_id]['name'])\n",
    "            print(f\"Quantity of the product bought:{qty} units\")\n",
    "            print(\"Price per item: Rs.\",record_dataSet[product_id]['price'])\n",
    "            print(\"____________________________________\")\n",
    "            print(\"Total Amount of the bill: Rs.\", qty * record_dataSet[product_id]['price'],\"\\n\")\n",
    "            print(\"*************************************\\n Thanks for Shopping \\n*************************************\")\n",
    "\n",
    "            # update the qty in the record_dataSet\n",
    "            record_dataSet[product_id]['qty'] -= qty\n",
    "\n",
    "            if (record_dataSet[product_id]['qty'] == 0):\n",
    "                record_dataSet[product_id]['isAvailable']=0\n",
    "        else:\n",
    "            print(\"Sorry, the given product is not available.\")\n",
    "    else:\n",
    "        print(\"Wrong product id or product currently not available\")\n",
    "    data = json.dumps(record_dataSet)\n",
    "\n",
    "    fp = open(\"record_dataSet.json\", \"w\")\n",
    "    fp.write(data)\n",
    "    fp.close()\n",
    "    \n",
    "    # Updating salesRecord\n",
    "    sales_Records = open(\"salesRecord.json\", \"r\")\n",
    "    data = sales_Records.read()\n",
    "    sales_Records.close()\n",
    "\n",
    "    sales = json.loads(data)\n",
    "\n",
    "    sales['sales'] +=1\n",
    "    i = sales['sales']\n",
    "\n",
    "    sale = {'Date and Time':time.ctime(),\n",
    "            'Product id':product_id,\n",
    "            'Name':record_dataSet[product_id]['name'],\n",
    "            'Amount':qty * record_dataSet[product_id]['price'],\n",
    "            'customer name':customer_name,\n",
    "            'customer mobile':customer_mobile_no}\n",
    "    sales[i] = sale\n",
    "     \n",
    "    \n",
    "    # updating in the sales.json file\n",
    "    data = json.dumps(sales)\n",
    "\n",
    "    sales_Records = open(\"salesRecord.json\", \"w\")\n",
    "    sales_Records.write(data)\n",
    "    sales_Records.close()"
   ]
  },
  {
   "cell_type": "markdown",
   "metadata": {},
   "source": [
    "## Calling the generateBill function"
   ]
  },
  {
   "cell_type": "code",
   "execution_count": 26,
   "metadata": {},
   "outputs": [
    {
     "name": "stdout",
     "output_type": "stream",
     "text": [
      "Enter customer name: Jonas\n",
      "Enter customer mobile number: 4278*****9\n",
      "Enter the product id of the product bought: 1024\n",
      "Enter the quantity of product bought by Jonas: 10\n",
      "*************************************\n",
      " Bill Generated \n",
      "*************************************\n",
      "Customer name: Mr. Jonas\n",
      "Customer mobile no: 4278*****9\n",
      "____________________________________\n",
      "Product id entered: 1024\n",
      "Product name: Chart paper\n",
      "Quantity of the product bought:10 units\n",
      "Price per item: Rs. 1\n",
      "____________________________________\n",
      "Total Amount of the bill: Rs. 10 \n",
      "\n",
      "*************************************\n",
      " Thanks for Shopping \n",
      "*************************************\n"
     ]
    }
   ],
   "source": [
    "generateBill()"
   ]
  }
 ],
 "metadata": {
  "kernelspec": {
   "display_name": "Python 3",
   "language": "python",
   "name": "python3"
  },
  "language_info": {
   "codemirror_mode": {
    "name": "ipython",
    "version": 3
   },
   "file_extension": ".py",
   "mimetype": "text/x-python",
   "name": "python",
   "nbconvert_exporter": "python",
   "pygments_lexer": "ipython3",
   "version": "3.8.5"
  }
 },
 "nbformat": 4,
 "nbformat_minor": 4
}
